{
 "cells": [
  {
   "cell_type": "code",
   "execution_count": 7,
   "id": "9dc5c00e",
   "metadata": {},
   "outputs": [
    {
     "name": "stdout",
     "output_type": "stream",
     "text": [
      "Enter the values\n",
      "Enter the P: 10000\n",
      "Enter the r: 6\n",
      "Enter the n: 5\n",
      "Enter the t: 6\n",
      "the value of compound_interest is: \n",
      "4302.612586744108\n"
     ]
    }
   ],
   "source": [
    "print ('Enter the values')\n",
    "\n",
    "P = float(input('Enter the P: '))\n",
    "r = float(input('Enter the r: '))\n",
    "n = float(input('Enter the n: '))\n",
    "t = float(input('Enter the t: '))\n",
    "\n",
    "A = P * ((1 + ((r/100))/n))**(n*t)\n",
    "\n",
    "compound_interest = (A-P)\n",
    "print(\"the value of compound_interest is: \")\n",
    "print(compound_interest)"
   ]
  },
  {
   "cell_type": "code",
   "execution_count": 5,
   "id": "affe3789",
   "metadata": {},
   "outputs": [
    {
     "name": "stdout",
     "output_type": "stream",
     "text": [
      "Enter the values\n",
      "Enter the r: 6\n",
      "the value of TSA is: \n",
      "339.12\n"
     ]
    }
   ],
   "source": [
    "print ('Enter the values')\n",
    "\n",
    "pi = 3.14\n",
    "r = float(input('Enter the r: '))\n",
    "\n",
    "TSA = 3*pi*(r**2)\n",
    "print(\"the value of TSA is: \")\n",
    "print(TSA)"
   ]
  },
  {
   "cell_type": "code",
   "execution_count": 8,
   "id": "84b55b88",
   "metadata": {},
   "outputs": [
    {
     "name": "stdout",
     "output_type": "stream",
     "text": [
      "Enter the marks of 5 students: \n",
      "Enter the marks: 10\n",
      "Enter the marks: 20\n",
      "Enter the marks: 30\n",
      "Enter the marks: 40\n",
      "Enter the marks: 50\n",
      "the standard deviation is: \n",
      "14.142135623730951\n"
     ]
    }
   ],
   "source": [
    "print ('Enter the marks of 5 students: ')\n",
    "\n",
    "student_1 = float(input('Enter the marks: '))\n",
    "student_2 = float(input('Enter the marks: '))\n",
    "student_3 = float(input('Enter the marks: '))\n",
    "student_4 = float(input('Enter the marks: '))\n",
    "student_5 = float(input('Enter the marks: '))\n",
    "\n",
    "mean = (student_1 + student_2 + student_3 + student_4 + student_5) / 5\n",
    "\n",
    "varience = ((student_1 - mean)**2 + (student_2 - mean)**2 + (student_3 - mean)**2 + (student_4 - mean)**2 + (student_5 - mean)**2)/5\n",
    "\n",
    "sd = varience**0.5\n",
    "\n",
    "print(\"the standard deviation is: \")\n",
    "print(sd)"
   ]
  },
  {
   "cell_type": "code",
   "execution_count": null,
   "id": "07f218fd",
   "metadata": {},
   "outputs": [],
   "source": []
  }
 ],
 "metadata": {
  "kernelspec": {
   "display_name": "Python 3",
   "language": "python",
   "name": "python3"
  },
  "language_info": {
   "codemirror_mode": {
    "name": "ipython",
    "version": 3
   },
   "file_extension": ".py",
   "mimetype": "text/x-python",
   "name": "python",
   "nbconvert_exporter": "python",
   "pygments_lexer": "ipython3",
   "version": "3.8.8"
  }
 },
 "nbformat": 4,
 "nbformat_minor": 5
}
