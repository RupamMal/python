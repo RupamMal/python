{
 "cells": [
  {
   "cell_type": "code",
   "execution_count": 1,
   "id": "748fccf9",
   "metadata": {},
   "outputs": [
    {
     "name": "stdout",
     "output_type": "stream",
     "text": [
      "A grade\n"
     ]
    }
   ],
   "source": [
    "a = 19 \n",
    "b = 51\n",
    "c = 10 \n",
    "\n",
    "marks = 90\n",
    "\n",
    "if marks > 90:\n",
    "    print('S grade')\n",
    "elif marks > 80:\n",
    "    print('A grade')\n",
    "elif marks > 70:\n",
    "    print('B grade')\n",
    "elif marks > 60:\n",
    "    print('C grade')\n",
    "elif marks > 50:\n",
    "    print('D grade') \n",
    "elif marks > 40:\n",
    "    print('E grade')\n",
    "else:\n",
    "    print('Fail')"
   ]
  },
  {
   "cell_type": "code",
   "execution_count": 3,
   "id": "6aceeddc",
   "metadata": {},
   "outputs": [
    {
     "name": "stdout",
     "output_type": "stream",
     "text": [
      "cost2080.0\n"
     ]
    }
   ],
   "source": [
    "price = 2600\n",
    "\n",
    "if price < 1000:\n",
    "    final_price = price\n",
    "    print(f'cost{final_price}')\n",
    "elif price > 1000 and price < 2000:\n",
    "    final_price = price * 0.9\n",
    "    print(f'cost{final_price}')\n",
    "elif price > 2000 and price < 3000:\n",
    "    final_price = price * 0.8\n",
    "    print(f'cost{final_price}')\n",
    "else:\n",
    "    final_price = price * 0.7\n",
    "    print(f'cost{final_price}')"
   ]
  },
  {
   "cell_type": "code",
   "execution_count": 1,
   "id": "e376e5a9",
   "metadata": {},
   "outputs": [
    {
     "name": "stdout",
     "output_type": "stream",
     "text": [
      "the day is hot\n"
     ]
    }
   ],
   "source": [
    "day_is_hot = True\n",
    "day_is_cold = False\n",
    "\n",
    "if day_is_hot:\n",
    "    print('the day is hot')\n",
    "elif day_is_cold:\n",
    "    print('the day is cold')\n",
    "    "
   ]
  },
  {
   "cell_type": "code",
   "execution_count": 1,
   "id": "7cd7d9ca",
   "metadata": {},
   "outputs": [
    {
     "name": "stdout",
     "output_type": "stream",
     "text": [
      "Enter unit:240\n",
      "Total cost is: 600\n"
     ]
    }
   ],
   "source": [
    "unit=int(input(\"Enter unit:\"))\n",
    "count=0\n",
    "if unit<100:\n",
    "    count= unit*1.5 -150\n",
    "elif unit<200:\n",
    "    count= unit*1.5 +20-150\n",
    "elif unit<500:\n",
    "    if 1<unit<100:\n",
    "        count=30+ unit*0.15 -150\n",
    "    elif 101<unit<200:\n",
    "        count=30+ unit*2 -150\n",
    "    else :\n",
    "        count=30+ unit*3 -150\n",
    "elif unit>500:\n",
    "    if 1<unit<100:\n",
    "        count=50+ unit*1.5 -150\n",
    "    elif 101<unit<200:\n",
    "        count= 50+ unit*3.50 -150\n",
    "    elif 201<unit<500:\n",
    "        count= 50+ unit*4.6 -150\n",
    "    else:\n",
    "        count=50+ unit*6.6 -150\n",
    "print(\"Total cost is:\", count)"
   ]
  },
  {
   "cell_type": "code",
   "execution_count": 6,
   "id": "544e5d2f",
   "metadata": {},
   "outputs": [
    {
     "name": "stdout",
     "output_type": "stream",
     "text": [
      "enter the value of a: 82\n",
      "enter the value of b: 92\n",
      "enter the value of c: 51\n",
      "Fail\n"
     ]
    }
   ],
   "source": [
    "a = int(input(\"enter the value of a: \"))\n",
    "b = int(input(\"enter the value of b: \"))\n",
    "c = int(input(\"enter the value of c: \"))\n",
    "\n",
    "if marks > 90:\n",
    "    print('S grade')\n",
    "elif mark > 80:\n",
    "    print('A grade')\n",
    "elif mark > 70:\n",
    "    print('B grade')\n",
    "elif mark > 60:\n",
    "    print('C grade')\n",
    "elif mark > 50:\n",
    "    print('D grade') \n",
    "else:\n",
    "    print('Fail')\n"
   ]
  },
  {
   "cell_type": "code",
   "execution_count": null,
   "id": "d75a8796",
   "metadata": {},
   "outputs": [],
   "source": []
  }
 ],
 "metadata": {
  "kernelspec": {
   "display_name": "Python 3",
   "language": "python",
   "name": "python3"
  },
  "language_info": {
   "codemirror_mode": {
    "name": "ipython",
    "version": 3
   },
   "file_extension": ".py",
   "mimetype": "text/x-python",
   "name": "python",
   "nbconvert_exporter": "python",
   "pygments_lexer": "ipython3",
   "version": "3.8.8"
  }
 },
 "nbformat": 4,
 "nbformat_minor": 5
}
