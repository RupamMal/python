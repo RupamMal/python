{
 "cells": [
  {
   "cell_type": "code",
   "execution_count": 1,
   "id": "098b9a4e",
   "metadata": {},
   "outputs": [
    {
     "name": "stdout",
     "output_type": "stream",
     "text": [
      "do you want item1.If yes enter 1 else 01\n",
      "enter the quantity. 1-5=2\n",
      "do you want item1.If yes enter 1 else 01\n",
      "enter the quantity. 1-5=2\n",
      "do you want item1.If yes enter 1 else 01\n",
      "enter the quantity. 1-5=2\n",
      "do you want item1.If yes enter 1 else 01\n",
      "enter the quantity. 1-5=2\n",
      "do you want item1.If yes enter 1 else 01\n",
      "enter the quantity. 1-5=2\n",
      "the final price is 300\n"
     ]
    }
   ],
   "source": [
    "a = int(input('do you want item1.If yes enter 1 else 0'))\n",
    "aq = int(input('enter the quantity. 1-5='))\n",
    "\n",
    "b = int(input('do you want item1.If yes enter 1 else 0'))\n",
    "bq = int(input('enter the quantity. 1-5='))\n",
    "\n",
    "c = int(input('do you want item1.If yes enter 1 else 0'))\n",
    "cq = int(input('enter the quantity. 1-5='))\n",
    "\n",
    "d = int(input('do you want item1.If yes enter 1 else 0'))\n",
    "dq = int(input('enter the quantity. 1-5='))\n",
    "\n",
    "e = int(input('do you want item1.If yes enter 1 else 0'))\n",
    "eq = int(input('enter the quantity. 1-5='))\n",
    "\n",
    "\n",
    "item1_price = 10\n",
    "item2_price = 20\n",
    "item3_price = 30\n",
    "item4_price = 40\n",
    "item5_price = 50\n",
    "\n",
    "if a == 1:\n",
    "    n = aq * item1_price \n",
    "else:\n",
    "    n=0\n",
    "if b == 1:\n",
    "    p = aq * item2_price \n",
    "else:\n",
    "    p=0\n",
    "if c == 1:\n",
    "    q = aq * item3_price \n",
    "else:\n",
    "    q=0\n",
    "if d == 1:\n",
    "    r = aq * item4_price \n",
    "else:\n",
    "    r=0\n",
    "if e == 1:\n",
    "    s = aq * item5_price \n",
    "else:\n",
    "    s=0\n",
    "final_price = (n+p+q+r+s)    \n",
    "\n",
    "print(\"the final price is\",final_price)"
   ]
  },
  {
   "cell_type": "markdown",
   "id": "7ef545c5",
   "metadata": {},
   "source": [
    "###### without if statement"
   ]
  },
  {
   "cell_type": "code",
   "execution_count": 1,
   "id": "98a1e543",
   "metadata": {},
   "outputs": [
    {
     "name": "stdout",
     "output_type": "stream",
     "text": [
      "do you want item1.If yes enter 1 else 01\n",
      "enter the quantity. 1-5=2\n",
      "do you want item1.If yes enter 1 else 01\n",
      "enter the quantity. 1-5=2\n",
      "do you want item1.If yes enter 1 else 01\n",
      "enter the quantity. 1-5=2\n",
      "do you want item1.If yes enter 1 else 01\n",
      "enter the quantity. 1-5=2\n",
      "do you want item1.If yes enter 1 else 01\n",
      "enter the quantity. 1-5=2\n",
      "the total price is: 300\n"
     ]
    }
   ],
   "source": [
    "a = int(input('do you want item1.If yes enter 1 else 0'))\n",
    "aq = int(input('enter the quantity. 1-5='))\n",
    "\n",
    "b = int(input('do you want item1.If yes enter 1 else 0'))\n",
    "bq = int(input('enter the quantity. 1-5='))\n",
    "\n",
    "c = int(input('do you want item1.If yes enter 1 else 0'))\n",
    "cq = int(input('enter the quantity. 1-5='))\n",
    "\n",
    "d = int(input('do you want item1.If yes enter 1 else 0'))\n",
    "dq = int(input('enter the quantity. 1-5='))\n",
    "\n",
    "e = int(input('do you want item1.If yes enter 1 else 0'))\n",
    "eq = int(input('enter the quantity. 1-5='))\n",
    "\n",
    "\n",
    "item1_price = 10\n",
    "item2_price = 20\n",
    "item3_price = 30\n",
    "item4_price = 40\n",
    "item5_price = 50\n",
    "\n",
    "total_price = (item1_price*aq)+(item2_price*bq)+(item3_price*cq)+(item4_price*dq)+(item5_price*eq)\n",
    "\n",
    "print(\"the total price is:\",total_price)"
   ]
  },
  {
   "cell_type": "code",
   "execution_count": 1,
   "id": "4ceefc38",
   "metadata": {},
   "outputs": [
    {
     "name": "stdout",
     "output_type": "stream",
     "text": [
      "Enter the input-1= 52\n",
      "Enter the input-2= 58\n",
      "Enter the operation= 2\n",
      "the value of multiplication is=: 3016\n"
     ]
    }
   ],
   "source": [
    "a = int(input('Enter the input-1= '))\n",
    "b = int(input('Enter the input-2= '))\n",
    "op = int(input('Enter the operation= '))\n",
    "\n",
    "if op==1:\n",
    "    c = a + b\n",
    "    print(\"the value of sum is=:\",c)\n",
    "elif op==2:\n",
    "    c = a*b\n",
    "    print(\"the value of multiplication is=:\",c)\n",
    "elif op==3:\n",
    "    c = a / b\n",
    "    print(\"the value of division is=:\",c)\n",
    "elif op==4:\n",
    "    c = a % b\n",
    "    print(\"the remainder is=:\",c)\n",
    "elif op==5:\n",
    "    c = a ** b\n",
    "    print(\"the value is=:\",c)    \n",
    "else:\n",
    "    c = a - b \n",
    "    print(\"the diff is:\",c)"
   ]
  },
  {
   "cell_type": "code",
   "execution_count": 8,
   "id": "5b29039e",
   "metadata": {},
   "outputs": [
    {
     "name": "stdout",
     "output_type": "stream",
     "text": [
      "enter the operation 3\n",
      "Enter the value of d: 10000\n",
      "Enter the value of r: 7\n",
      "Enter the value of i: 6\n",
      "Enter the value of n: 3\n",
      "the value of Mature amount is:  9706.647805834775\n"
     ]
    }
   ],
   "source": [
    "sel = int(input('enter the operation '))\n",
    "\n",
    "if sel == 1:\n",
    "    p = float(input('Enter the value of p: '))\n",
    "    t = float(input('Enter the value of t: '))\n",
    "    n = float(input('Enter the value of n: '))\n",
    "    r = float(input('Enter the value of r: '))\n",
    "    A = P * ((1 + ((r/100))/n))**(n*t)\n",
    "\n",
    "    compound_interest = (A-P)\n",
    "    print(\"the value of compound_interest is: \",A)\n",
    "    print(compound_interest)\n",
    "\n",
    "elif sel ==2:\n",
    "    p = float(input('Enter the value of p: '))\n",
    "    t = float(input('Enter the value of t: '))\n",
    "    r = float(input('Enter the value of r: '))\n",
    "    A = (p*r*t)/100\n",
    "    print(\"the value of simple interest is: \",A)\n",
    "else:\n",
    "    d = float(input('Enter the value of d: '))\n",
    "    r = float(input('Enter the value of r: '))\n",
    "    i = float(input('Enter the value of i: '))\n",
    "    n = float(input('Enter the value of n: '))\n",
    "    M = d-((r*((1+i)*n-1))/(1-(1+i)**(-1/3)))\n",
    "    \n",
    "    print(\"the value of Mature amount is: \",M)"
   ]
  }
 ],
 "metadata": {
  "kernelspec": {
   "display_name": "Python 3",
   "language": "python",
   "name": "python3"
  },
  "language_info": {
   "codemirror_mode": {
    "name": "ipython",
    "version": 3
   },
   "file_extension": ".py",
   "mimetype": "text/x-python",
   "name": "python",
   "nbconvert_exporter": "python",
   "pygments_lexer": "ipython3",
   "version": "3.8.8"
  }
 },
 "nbformat": 4,
 "nbformat_minor": 5
}
