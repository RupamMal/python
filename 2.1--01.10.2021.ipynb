{
 "cells": [
  {
   "cell_type": "code",
   "execution_count": 1,
   "id": "2a13e7a6",
   "metadata": {},
   "outputs": [
    {
     "name": "stdout",
     "output_type": "stream",
     "text": [
      "0\n",
      "1\n",
      "2\n",
      "3\n",
      "4\n",
      "5\n"
     ]
    }
   ],
   "source": [
    "i = 0\n",
    "while  i<=5:\n",
    "    print(i)\n",
    "    i+=1\n",
    "    # or I can write this i=i+1"
   ]
  },
  {
   "cell_type": "code",
   "execution_count": 8,
   "id": "de7fbc68",
   "metadata": {},
   "outputs": [
    {
     "name": "stdout",
     "output_type": "stream",
     "text": [
      "\n",
      "*\n",
      "**\n",
      "***\n",
      "****\n",
      "*****\n",
      "******\n",
      "*******\n",
      "********\n",
      "*********\n",
      "**********\n"
     ]
    }
   ],
   "source": [
    "i = 0\n",
    "while  i<=10:\n",
    "    print('*'*i)\n",
    "    i+=1\n",
    "    # or I can write this i=i+1"
   ]
  },
  {
   "cell_type": "code",
   "execution_count": 11,
   "id": "b059b02e",
   "metadata": {},
   "outputs": [
    {
     "name": "stdout",
     "output_type": "stream",
     "text": [
      "3\n",
      "6\n",
      "9\n",
      "12\n",
      "15\n",
      "18\n"
     ]
    }
   ],
   "source": [
    "i = 1\n",
    "while  i<=20:\n",
    "    if (i % 3)==0:\n",
    "        print(i)\n",
    "    i+=1"
   ]
  },
  {
   "cell_type": "code",
   "execution_count": 14,
   "id": "9c53f4a5",
   "metadata": {},
   "outputs": [
    {
     "name": "stdout",
     "output_type": "stream",
     "text": [
      "1\n",
      "3\n",
      "5\n",
      "7\n",
      "9\n"
     ]
    }
   ],
   "source": [
    "for i in range(1,10,2):\n",
    "    print(i)"
   ]
  },
  {
   "cell_type": "code",
   "execution_count": 16,
   "id": "5f99e3ff",
   "metadata": {},
   "outputs": [
    {
     "name": "stdout",
     "output_type": "stream",
     "text": [
      "47\n"
     ]
    }
   ],
   "source": [
    "numbers = [45,47,56,83,12]\n",
    "print(numbers[1])\n"
   ]
  },
  {
   "cell_type": "code",
   "execution_count": 17,
   "id": "44b66825",
   "metadata": {},
   "outputs": [
    {
     "name": "stdout",
     "output_type": "stream",
     "text": [
      "12\n",
      "45\n",
      "47\n",
      "56\n",
      "83\n",
      "12\n"
     ]
    }
   ],
   "source": [
    "numbers = [45,47,56,83,12]\n",
    "print(numbers[4])\n",
    "for i in range(0,5):\n",
    "    print(numbers[i])"
   ]
  },
  {
   "cell_type": "code",
   "execution_count": 21,
   "id": "e00409dc",
   "metadata": {},
   "outputs": [
    {
     "name": "stdout",
     "output_type": "stream",
     "text": [
      "45 is not divisible by two\n",
      "47 is not divisible by two\n",
      "56 is divisible by two\n",
      "83 is not divisible by two\n",
      "12 is divisible by two\n"
     ]
    }
   ],
   "source": [
    "numbers = [45,47,56,83,12]\n",
    "for i in range (0,5):\n",
    "    if (numbers[i]%2)==0:\n",
    "        print(f'{numbers[i]} is divisible by two')\n",
    "    else:\n",
    "        print(f'{numbers[i]} is not divisible by two') \n"
   ]
  },
  {
   "cell_type": "code",
   "execution_count": 32,
   "id": "dbe2a946",
   "metadata": {},
   "outputs": [
    {
     "name": "stdout",
     "output_type": "stream",
     "text": [
      "91\n"
     ]
    }
   ],
   "source": [
    "numbers = [56,87,23,91,10,8]\n",
    "largest_number = numbers[0]\n",
    "for i in numbers :\n",
    "    if i > largest_number:\n",
    "        largest_number = i\n",
    "print(largest_number) \n",
    "        "
   ]
  },
  {
   "cell_type": "code",
   "execution_count": 29,
   "id": "3ad9e2e7",
   "metadata": {},
   "outputs": [
    {
     "name": "stdout",
     "output_type": "stream",
     "text": [
      "increasing number list is:  8 10 23 56 87 91\n"
     ]
    }
   ],
   "source": [
    "numbers = [56,87,23,91,10,8]\n",
    "numbers.sort()\n",
    "print(\"increasing number list is: \",*numbers[:7])"
   ]
  },
  {
   "cell_type": "code",
   "execution_count": 31,
   "id": "ee96b2d4",
   "metadata": {},
   "outputs": [
    {
     "name": "stdout",
     "output_type": "stream",
     "text": [
      "8\n"
     ]
    }
   ],
   "source": [
    "numbers = [56,87,23,91,10,8]\n",
    "smallest_number = numbers[0]\n",
    "for i in numbers :\n",
    "    if i < smallest_number:\n",
    "        smallest_number = i\n",
    "print(smallest_number)  "
   ]
  }
 ],
 "metadata": {
  "kernelspec": {
   "display_name": "Python 3",
   "language": "python",
   "name": "python3"
  },
  "language_info": {
   "codemirror_mode": {
    "name": "ipython",
    "version": 3
   },
   "file_extension": ".py",
   "mimetype": "text/x-python",
   "name": "python",
   "nbconvert_exporter": "python",
   "pygments_lexer": "ipython3",
   "version": "3.8.8"
  }
 },
 "nbformat": 4,
 "nbformat_minor": 5
}
