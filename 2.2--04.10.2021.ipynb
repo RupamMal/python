{
 "cells": [
  {
   "cell_type": "code",
   "execution_count": 13,
   "id": "7b3402ae",
   "metadata": {},
   "outputs": [
    {
     "name": "stdout",
     "output_type": "stream",
     "text": [
      "[13, 65, 81, 87, 100, 910]\n"
     ]
    }
   ],
   "source": [
    "numbers = [65, 87, 13, 910, 100, 81]\n",
    "# i = 0\n",
    "# 13 87 65 910 100 81\n",
    "# i = 1\n",
    "# 13 65 87 910 100 81\n",
    "# i = 2\n",
    "# 13 65 81 910 100 87\n",
    "# i = 3\n",
    "# 13 65 87 100 910 81\n",
    "# 13 65 87 81 910 100\n",
    "i = 4\n",
    "# 13 65 87 81 100 910\n",
    "i = 0\n",
    "while i <= 5:\n",
    "    j = i\n",
    "    while j < 5:\n",
    "        if numbers[i] > numbers[j+1]:\n",
    "            temp = numbers[i]\n",
    "            numbers[i] = numbers[j+1]\n",
    "            numbers[j+1] = temp\n",
    "        j = j + 1\n",
    "    i = i + 1\n",
    "print(numbers)"
   ]
  },
  {
   "cell_type": "markdown",
   "id": "c980137b",
   "metadata": {},
   "source": [
    "### 1st DA\n",
    "\n",
    "##### \n",
    "1. aim - hw\n",
    "2. procedure - hw - opening software, type, save it, run it\n",
    "3. algo - hw\n",
    "4. flowchart - draw pencil\n",
    "5. prog - copy paste\n",
    "6. result - s.shot\n",
    "7. inf/conc - hw\n",
    "\n",
    "date : 12 oct,2021"
   ]
  },
  {
   "cell_type": "code",
   "execution_count": 3,
   "id": "bc611993",
   "metadata": {},
   "outputs": [
    {
     "name": "stdout",
     "output_type": "stream",
     "text": [
      "smallest number in the list is:  8\n"
     ]
    }
   ],
   "source": [
    "numbers = [56,87,23,91,10,8]\n",
    "numbers.sort()\n",
    "print(\"smallest number in the list is: \",*numbers[:1])"
   ]
  },
  {
   "cell_type": "code",
   "execution_count": null,
   "id": "d82e1482",
   "metadata": {},
   "outputs": [],
   "source": []
  }
 ],
 "metadata": {
  "kernelspec": {
   "display_name": "Python 3",
   "language": "python",
   "name": "python3"
  },
  "language_info": {
   "codemirror_mode": {
    "name": "ipython",
    "version": 3
   },
   "file_extension": ".py",
   "mimetype": "text/x-python",
   "name": "python",
   "nbconvert_exporter": "python",
   "pygments_lexer": "ipython3",
   "version": "3.8.8"
  }
 },
 "nbformat": 4,
 "nbformat_minor": 5
}
