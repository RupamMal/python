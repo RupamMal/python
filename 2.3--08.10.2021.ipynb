{
 "cells": [
  {
   "cell_type": "code",
   "execution_count": 1,
   "id": "ac80a51e",
   "metadata": {},
   "outputs": [
    {
     "name": "stdout",
     "output_type": "stream",
     "text": [
      "['cat', 'dog', 'cow']\n"
     ]
    }
   ],
   "source": [
    "names = ['cat', 'dog', 'cow']\n",
    "numbers = [1,2,3,4,5]\n",
    "\n",
    "print(names)"
   ]
  },
  {
   "cell_type": "code",
   "execution_count": 3,
   "id": "7973d9a2",
   "metadata": {},
   "outputs": [
    {
     "name": "stdout",
     "output_type": "stream",
     "text": [
      "[[1, 3, 4], [2, 7, 3], [5, 6, 8]]\n"
     ]
    }
   ],
   "source": [
    "mat = [\n",
    "    [1, 3, 4],\n",
    "    [2, 7, 3],\n",
    "    [5, 6, 8],\n",
    "]\n",
    "print(mat)"
   ]
  },
  {
   "cell_type": "code",
   "execution_count": 4,
   "id": "2639b343",
   "metadata": {},
   "outputs": [
    {
     "name": "stdout",
     "output_type": "stream",
     "text": [
      "[1, 3, 4]\n",
      "1\n",
      "3\n",
      "4\n",
      "[2, 7, 3]\n",
      "2\n",
      "7\n",
      "3\n",
      "[5, 6, 8]\n",
      "5\n",
      "6\n",
      "8\n"
     ]
    }
   ],
   "source": [
    "mat = [\n",
    "    [1, 3, 4],\n",
    "    [2, 7, 3],\n",
    "    [5, 6, 8],\n",
    "]\n",
    "for row in mat:\n",
    "    print(row)\n",
    "    for j in row:\n",
    "        print(j)"
   ]
  },
  {
   "cell_type": "code",
   "execution_count": 5,
   "id": "d2ced884",
   "metadata": {},
   "outputs": [
    {
     "name": "stdout",
     "output_type": "stream",
     "text": [
      "[7, 9, 0, 5, 4, 2]\n",
      "enter the number90\n",
      "[7, 9, 0, 5, 4, 2, 10, 90]\n"
     ]
    }
   ],
   "source": [
    "numbers = [7,9,0,5,4,2]\n",
    "print(numbers)\n",
    "numbers.append(10)\n",
    "x = int(input('enter the number'))\n",
    "numbers.append(x)\n",
    "\n",
    "print(numbers)"
   ]
  },
  {
   "cell_type": "code",
   "execution_count": 7,
   "id": "36ac3eef",
   "metadata": {},
   "outputs": [
    {
     "name": "stdout",
     "output_type": "stream",
     "text": [
      "enter 1st number 5\n",
      "enter 2nd number 6\n",
      "enter 3rd number 7\n",
      "enter 4th number 8\n",
      "enter 5th number 9\n",
      "['5', '6', '7', '8', '9']\n",
      "the third largest number is  7\n"
     ]
    }
   ],
   "source": [
    "f1 = input('enter 1st number ')\n",
    "f2 = input('enter 2nd number ')\n",
    "f3 = input('enter 3rd number ')\n",
    "f4 = input('enter 4th number ')\n",
    "f5 = input('enter 5th number ')\n",
    "\n",
    "num_list = [f1,f2,f3,f4,f5]\n",
    "num_list.sort()\n",
    "print(num_list)\n",
    "print('the third largest number is ',f3)"
   ]
  },
  {
   "cell_type": "markdown",
   "id": "50410f0b",
   "metadata": {},
   "source": [
    "####  if repeatation in a list of number,remove the number"
   ]
  },
  {
   "cell_type": "code",
   "execution_count": 10,
   "id": "1392bb4a",
   "metadata": {},
   "outputs": [
    {
     "name": "stdout",
     "output_type": "stream",
     "text": [
      "the final list is  {0, 1, 2, 3, 5, 7, 8, 9}\n"
     ]
    }
   ],
   "source": [
    "list = [1,2,1,3,5,7,9,8,9,0,8]\n",
    "final_list = set(list)\n",
    "print('the final list is ',final_list)"
   ]
  },
  {
   "cell_type": "code",
   "execution_count": 11,
   "id": "6fed7fb5",
   "metadata": {},
   "outputs": [
    {
     "name": "stdout",
     "output_type": "stream",
     "text": [
      "[1, 2, 3, 5, 7, 9, 8, 0]\n"
     ]
    }
   ],
   "source": [
    "list = [1,2,1,3,5,7,9,8,9,0,8]\n",
    "list2 = []\n",
    "for number in list:\n",
    "    if number not in list2: \n",
    "        list2.append(number)\n",
    "print(list2)        "
   ]
  },
  {
   "cell_type": "code",
   "execution_count": null,
   "id": "3db0ed85",
   "metadata": {},
   "outputs": [],
   "source": [
    "print(\"guess the number\")\n",
    "print(\"1)right guess\")\n",
    "print(\"2)wrong guess\")\n",
    "\n",
    "option = input(\"select your number \")\n",
    "option = int(option)\n",
    "\n",
    "if option==1:\n",
    "    pass\n",
    "elif option==2:\n",
    "    print(\"wrong guess\")\n",
    "else:\n",
    "    print(\"invalid number\")"
   ]
  },
  {
   "cell_type": "code",
   "execution_count": null,
   "id": "d8f41463",
   "metadata": {},
   "outputs": [],
   "source": [
    "right_number = 6\n",
    "max_count = 3\n",
    "count = 0\n",
    "while count < max_count:\n",
    "    number = int(input('enter the number '))\n",
    "    if number == right_number:\n",
    "        print('you have won')\n",
    "        break\n",
    "    count = count + 1\n",
    "else:\n",
    "    print(\"u have lost\")"
   ]
  },
  {
   "cell_type": "code",
   "execution_count": null,
   "id": "2afe82e9",
   "metadata": {},
   "outputs": [],
   "source": [
    "print(\"guess the number\")\n",
    "print(\"1)right guess\")\n",
    "print(\"2)wrong guess\")\n",
    "\n",
    "option = input(\"select your number \")\n",
    "option = int(option)\n",
    "\n",
    "if option==1:\n",
    "    pass\n",
    "elif option==2:\n",
    "    print(\"wrong guess\")\n",
    "else:\n",
    "    print(\"invalid number\")"
   ]
  },
  {
   "cell_type": "code",
   "execution_count": null,
   "id": "bfa4dfd9",
   "metadata": {},
   "outputs": [],
   "source": []
  }
 ],
 "metadata": {
  "kernelspec": {
   "display_name": "Python 3",
   "language": "python",
   "name": "python3"
  },
  "language_info": {
   "codemirror_mode": {
    "name": "ipython",
    "version": 3
   },
   "file_extension": ".py",
   "mimetype": "text/x-python",
   "name": "python",
   "nbconvert_exporter": "python",
   "pygments_lexer": "ipython3",
   "version": "3.8.8"
  }
 },
 "nbformat": 4,
 "nbformat_minor": 5
}
