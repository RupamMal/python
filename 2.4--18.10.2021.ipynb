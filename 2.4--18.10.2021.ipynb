{
 "cells": [
  {
   "cell_type": "code",
   "execution_count": 1,
   "id": "297ef340",
   "metadata": {},
   "outputs": [
    {
     "name": "stdout",
     "output_type": "stream",
     "text": [
      "## Hi, Hello! how are you? Tell me about \"yourself\". @@\n",
      " Hi Hello how are you Tell me about yourself \n",
      "the factors are\n",
      "1\n",
      "3\n",
      "157\n",
      "471\n"
     ]
    }
   ],
   "source": [
    "# customer = {\n",
    "#     \"name\" : \"kumar\",\n",
    "#     \"age\" : \"25\",\n",
    "#     \"is_valued\" : True\n",
    "# }\n",
    "# dict = {}\n",
    "# print(customer)\n",
    "# customer[\"name\"] = \"raj\"\n",
    "# customer[\"DoB\"] = \"1 jan. 1995\"\n",
    "# #print(customer[\"Address\"])\n",
    "# print(customer.get(\"address\"))\n",
    "# print(\"End Of program\")\n",
    "# print(f'{customer[\"name\"]}, {customer[\"age\"]}')\n",
    "# lt = [0, 1]\n",
    "# s = 0\n",
    "# i = 0\n",
    "# while s < 100:\n",
    "#     s = lt[i] + lt[i+1]\n",
    "#    # lt.append(s)\n",
    "#     lt.insert(i+2, s)\n",
    "#     i = i + 1\n",
    "# lt.pop()\n",
    "# print(lt)\n",
    "#\n",
    "# d = {\n",
    "#     'red' : 1,\n",
    "#     'green' : 2,\n",
    "#     'orange' : 3\n",
    "# }\n",
    "# e = {\n",
    "#     'dark_red' : 4,\n",
    "#     'light_green' : 5,\n",
    "#     'yellow' : 6\n",
    "# }\n",
    "#\n",
    "# s = 0\n",
    "# for k in d:\n",
    "#     s = s +d[k]\n",
    "# # print(s)\n",
    "# for k, v in d.items():\n",
    "#     print(f' key is {k}')\n",
    "#     print(f' value is {d[k]}')\n",
    "# print('he is going \"rome\" ')\n",
    "# print('''\n",
    "#     i am \"coming\"\n",
    "# he is 'going'\n",
    "# they live here\n",
    "# ''')\n",
    "# f = d.copy()\n",
    "# f.update(e)\n",
    "#print(f)\n",
    "# dict = {\n",
    "#     1 : 'car',\n",
    "#     2 : 'bus',\n",
    "#     3 : 5,\n",
    "#     4 : [1, 3, 5],\n",
    "#     5 : (2, 4, 5),\n",
    "#     6 : {5, 7}\n",
    "# }\n",
    "#\n",
    "# print(dict.pop(5))\n",
    "# print(dict)\n",
    "# print(dict.clear())\n",
    "#\n",
    "# print(dict)\n",
    "# del dict\n",
    "# print(dict)\n",
    "pun = '''#,!?\".@'''\n",
    "s = '''## Hi, Hello! how are you? Tell me about \"yourself\". @@'''\n",
    "sn =''\n",
    "for c in s:\n",
    "   if c not in pun:\n",
    "       sn = sn + c\n",
    "print(s)\n",
    "print(sn)\n",
    "num  = 471\n",
    "print('the factors are')\n",
    "for i in range(1, num+1):\n",
    "    if num % i == 0:\n",
    "        print(i)"
   ]
  },
  {
   "cell_type": "code",
   "execution_count": 2,
   "id": "83e1c2a0",
   "metadata": {},
   "outputs": [
    {
     "name": "stdout",
     "output_type": "stream",
     "text": [
      "[0, 1, 1, 2, 3, 5, 8, 13, 21, 34, 55, 89]\n"
     ]
    }
   ],
   "source": [
    "lt = [0, 1]\n",
    "s = 0\n",
    "i = 0\n",
    "while s < 100:\n",
    "    s = lt[i] + lt[i+1]\n",
    "   # lt.append(s)\n",
    "    lt.insert(i+2, s)\n",
    "    i = i + 1\n",
    "lt.pop()\n",
    "print(lt)"
   ]
  },
  {
   "cell_type": "code",
   "execution_count": null,
   "id": "900a79a7",
   "metadata": {},
   "outputs": [],
   "source": []
  }
 ],
 "metadata": {
  "kernelspec": {
   "display_name": "Python 3",
   "language": "python",
   "name": "python3"
  },
  "language_info": {
   "codemirror_mode": {
    "name": "ipython",
    "version": 3
   },
   "file_extension": ".py",
   "mimetype": "text/x-python",
   "name": "python",
   "nbconvert_exporter": "python",
   "pygments_lexer": "ipython3",
   "version": "3.8.8"
  }
 },
 "nbformat": 4,
 "nbformat_minor": 5
}
