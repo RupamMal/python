{
 "cells": [
  {
   "cell_type": "code",
   "execution_count": 1,
   "id": "083048fd",
   "metadata": {},
   "outputs": [
    {
     "name": "stdout",
     "output_type": "stream",
     "text": [
      "{'name': 'Kumar', 'assignment': [8, 5, 7], 'cat': [26, 25], 'lab': [8, 7, 6, 8, 7, 9, 35], 'fat': 75}\n",
      "dict_items([('name', 'Kumar'), ('assignment', [8, 5, 7]), ('cat', [26, 25]), ('lab', [8, 7, 6, 8, 7, 9, 35]), ('fat', 75)])\n",
      "dict_keys(['name', 'assignment', 'cat', 'lab', 'fat'])\n",
      "dict_values(['Kumar', [8, 5, 7], [26, 25], [8, 7, 6, 8, 7, 9, 35], 75])\n",
      "sum is 20\n",
      "3.0650000000000004\n"
     ]
    }
   ],
   "source": [
    "bec101 = {\"name\": \"Kumar\",\n",
    "         \"assignment\": [8, 5, 7],           # 30\n",
    "         \"cat\": [26, 25],                   # 60 ---> 30\n",
    "         \"lab\": [8, 7, 6, 8, 7, 9, 35],     # 60 + 40\n",
    "         \"fat\": 75                          # 100 ---> 40\n",
    "         }\n",
    "print(bec101)\n",
    "print(bec101.items())\n",
    "print(bec101.keys())\n",
    "print(bec101.values())\n",
    "v = bec101[\"assignment\"]\n",
    "s = sum(v)\n",
    "print(f'sum is {s}')\n",
    "for k, v in bec101.items():\n",
    "    if k == 'assignment':\n",
    "        m1 = sum(v)\n",
    "    if k == 'cat':\n",
    "        m2 = sum(v)/2\n",
    "    if k == 'lab':\n",
    "        m3 = sum(v)\n",
    "    if k == 'fat':\n",
    "        m4 = (v/100)*40\n",
    "total_th = m1 + m2 + m4\n",
    "total_la = m3\n",
    "cre_th = (total_th/100)*3\n",
    "cre_la = total_la/100\n",
    "tot_cre = cre_la + cre_th\n",
    "print(tot_cre)"
   ]
  },
  {
   "cell_type": "code",
   "execution_count": 3,
   "id": "5e265cff",
   "metadata": {},
   "outputs": [
    {
     "name": "stdout",
     "output_type": "stream",
     "text": [
      "Fruit    | Quantity \n",
      "Apples   |       3.0\n",
      "Oranges  |        10\n"
     ]
    }
   ],
   "source": [
    "print('{0:8} | {1:9}'.format('Fruit', 'Quantity'))\n",
    "print('{0:8} | {1:9}'.format('Apples', 3.))\n",
    "print('{0:8} | {1:9}'.format('Oranges', 10))"
   ]
  },
  {
   "cell_type": "code",
   "execution_count": 1,
   "id": "2317094d",
   "metadata": {},
   "outputs": [
    {
     "name": "stdout",
     "output_type": "stream",
     "text": [
      "{'7': 14, '8': 16}\n",
      "{0: {'1': 5, '2': 10}, 1: {'7': 14, '8': 16}}\n"
     ]
    }
   ],
   "source": [
    "dict1 = {\n",
    "    'four': {'1': 5, '2': 10},\n",
    "    'five': {'7': 14, '8': 16}\n",
    "}\n",
    "\n",
    "s = {}\n",
    "i = 0\n",
    "for k, v in dict1.items():\n",
    "    s[i] = v\n",
    "    i = i +1\n",
    "print(s[1])\n",
    "print(s)"
   ]
  },
  {
   "cell_type": "code",
   "execution_count": null,
   "id": "21ed2100",
   "metadata": {},
   "outputs": [],
   "source": []
  }
 ],
 "metadata": {
  "kernelspec": {
   "display_name": "Python 3",
   "language": "python",
   "name": "python3"
  },
  "language_info": {
   "codemirror_mode": {
    "name": "ipython",
    "version": 3
   },
   "file_extension": ".py",
   "mimetype": "text/x-python",
   "name": "python",
   "nbconvert_exporter": "python",
   "pygments_lexer": "ipython3",
   "version": "3.8.8"
  }
 },
 "nbformat": 4,
 "nbformat_minor": 5
}
