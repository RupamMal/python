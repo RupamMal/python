{
 "cells": [
  {
   "cell_type": "code",
   "execution_count": 2,
   "id": "b037bcdf",
   "metadata": {},
   "outputs": [
    {
     "name": "stdout",
     "output_type": "stream",
     "text": [
      "enter the following values:\n",
      "enter the principal amount:6000\n",
      "enter the rate of interest:8\n",
      "enter the time period:6\n",
      "enter the number of compound interest:5\n",
      "compound interest is:  3659.6744218746626\n"
     ]
    }
   ],
   "source": [
    "print(\"enter the following values:\")\n",
    "p = int(input(\"enter the principal amount:\"))\n",
    "r = int(input(\"enter the rate of interest:\"))\n",
    "t = int(input(\"enter the time period:\"))\n",
    "n = int(input(\"enter the number of compound interest:\"))\n",
    "CI = (p * ((1 + ((r/100))/n))**(n*t))-p \n",
    "print(\"compound interest is: \",CI)"
   ]
  },
  {
   "cell_type": "code",
   "execution_count": 2,
   "id": "2cdf41d0",
   "metadata": {},
   "outputs": [
    {
     "name": "stdout",
     "output_type": "stream",
     "text": [
      "No. of vowels : 3\n"
     ]
    }
   ],
   "source": [
    "def vowel_count(str):\n",
    "    count = 0\n",
    "      \n",
    "    vowel = set(\"aeiouAEIOU\")\n",
    "      \n",
    "    for alphabet in str:\n",
    "      \n",
    "        if alphabet in vowel:\n",
    "            count = count + 1\n",
    "      \n",
    "    print(\"No. of vowels :\", count)\n",
    "       \n",
    "str = \"Kolkata\"\n",
    "  \n",
    "vowel_count(str)"
   ]
  },
  {
   "cell_type": "code",
   "execution_count": 1,
   "id": "ced85527",
   "metadata": {},
   "outputs": [
    {
     "name": "stdout",
     "output_type": "stream",
     "text": [
      "Enter any string: kolkata\n",
      "\n",
      "Removing vowels from the given string\n",
      "New string after successfully removed all the vowels:\n",
      "klkt\n"
     ]
    }
   ],
   "source": [
    "string = input(\"Enter any string: \")\n",
    "if string == 'x':\n",
    "    exit();\n",
    "else:\n",
    "    newstr = string;\n",
    "    print(\"\\nRemoving vowels from the given string\");\n",
    "    vowels = ('a', 'e', 'i', 'o', 'u');\n",
    "    for x in string.lower():\n",
    "        if x in vowels:\n",
    "            newstr = newstr.replace(x,\"\");\n",
    "    print(\"New string after successfully removed all the vowels:\");\n",
    "    print(newstr);"
   ]
  },
  {
   "cell_type": "code",
   "execution_count": 1,
   "id": "a3b9043b",
   "metadata": {},
   "outputs": [
    {
     "name": "stdout",
     "output_type": "stream",
     "text": [
      "Enter any string: I live in kolkata\n",
      "\n",
      "Removing vowels from the given string\n",
      "New string after successfully removed all the vowels:\n",
      "I lv n klkt\n"
     ]
    }
   ],
   "source": [
    "string = input(\"Enter any string: \")\n",
    "if string == 'x':\n",
    "    exit();\n",
    "else:\n",
    "    newstr = string;\n",
    "    print(\"\\nRemoving vowels from the given string\");\n",
    "    vowels = ('a', 'e', 'i', 'o', 'u');\n",
    "    for x in string.lower():\n",
    "        if x in vowels:\n",
    "            newstr = newstr.replace(x,\"\");\n",
    "    print(\"New string after successfully removed all the vowels:\");\n",
    "    print(newstr);"
   ]
  },
  {
   "cell_type": "code",
   "execution_count": null,
   "id": "bf283490",
   "metadata": {},
   "outputs": [],
   "source": []
  }
 ],
 "metadata": {
  "kernelspec": {
   "display_name": "Python 3",
   "language": "python",
   "name": "python3"
  },
  "language_info": {
   "codemirror_mode": {
    "name": "ipython",
    "version": 3
   },
   "file_extension": ".py",
   "mimetype": "text/x-python",
   "name": "python",
   "nbconvert_exporter": "python",
   "pygments_lexer": "ipython3",
   "version": "3.8.8"
  }
 },
 "nbformat": 4,
 "nbformat_minor": 5
}
