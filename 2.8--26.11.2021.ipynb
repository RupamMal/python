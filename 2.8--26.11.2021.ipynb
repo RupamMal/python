{
 "cells": [
  {
   "cell_type": "code",
   "execution_count": 4,
   "id": "dd505120",
   "metadata": {},
   "outputs": [
    {
     "name": "stdout",
     "output_type": "stream",
     "text": [
      "Enter lower range: 300\n",
      "Enter upper range: 500\n",
      "370\n",
      "371\n",
      "407\n"
     ]
    }
   ],
   "source": [
    "lower = int(input(\"Enter lower range: \"))  \n",
    "upper = int(input(\"Enter upper range: \"))  \n",
    "  \n",
    "for num in range(lower,upper + 1):  \n",
    "    sum = 0  \n",
    "    temp = num  \n",
    "    while temp > 0:  \n",
    "        digit = temp % 10  \n",
    "        sum += digit ** 3  \n",
    "        temp //= 10  \n",
    "        if num == sum:  \n",
    "            print(num)"
   ]
  },
  {
   "cell_type": "code",
   "execution_count": 5,
   "id": "2798e68d",
   "metadata": {},
   "outputs": [
    {
     "name": "stdout",
     "output_type": "stream",
     "text": [
      "Apple\n",
      "Apple's\n",
      "\"Apple\"\n",
      "\"Apple\", 'orange'\n",
      "kumar's\n",
      "...\"text\"....] \n",
      "True\n",
      "True\n",
      " \n",
      "hjkhkjk llklkl \n",
      "kjjjlll\n",
      "ljjlk\n",
      "hi, \n",
      "how are. \n",
      "Where r u!\n",
      "HEX\n",
      "colding\n",
      "cooding\n",
      "jon bill tom\n",
      "jon, bill and tom\n",
      "tom, bill and jon\n",
      "bill, tom and jon\n",
      "binary is 12 is 1100\n",
      "binary is 326736.9789 is 3.267370e+05\n",
      "binary is 0.3333333333333333 is 0.333333\n",
      "|jon       |   bill   |       tom|\n",
      "|jon       |   bill   |       tom|\n",
      "[(0, 'm'), (1, 'u'), (2, 'l'), (3, 't'), (4, 'i'), (5, 'p'), (6, 'r'), (7, 'o'), (8, 'c'), (9, 'e'), (10, 's'), (11, 's'), (12, 'i'), (13, 'n'), (14, 'g')]\n",
      "people\n",
      "PEOPLE\n",
      "['People', 'are', 'sitting', 'on', 'the', 'table']\n",
      "People are sitting on the table\n"
     ]
    },
    {
     "ename": "NameError",
     "evalue": "name 'cooker' is not defined",
     "output_type": "error",
     "traceback": [
      "\u001b[1;31m---------------------------------------------------------------------------\u001b[0m",
      "\u001b[1;31mNameError\u001b[0m                                 Traceback (most recent call last)",
      "\u001b[1;32m<ipython-input-5-273c932acef5>\u001b[0m in \u001b[0;36m<module>\u001b[1;34m\u001b[0m\n\u001b[0;32m     37\u001b[0m \u001b[0mprint\u001b[0m\u001b[1;33m(\u001b[0m\u001b[1;34m'People are sitting on the table'\u001b[0m\u001b[1;33m.\u001b[0m\u001b[0msplit\u001b[0m\u001b[1;33m(\u001b[0m\u001b[1;33m)\u001b[0m\u001b[1;33m)\u001b[0m\u001b[1;33m\u001b[0m\u001b[1;33m\u001b[0m\u001b[0m\n\u001b[0;32m     38\u001b[0m \u001b[0mprint\u001b[0m\u001b[1;33m(\u001b[0m\u001b[1;34m''\u001b[0m\u001b[1;33m.\u001b[0m\u001b[0mjoin\u001b[0m\u001b[1;33m(\u001b[0m\u001b[1;33m[\u001b[0m\u001b[1;34m'People '\u001b[0m\u001b[1;33m,\u001b[0m \u001b[1;34m'are '\u001b[0m\u001b[1;33m,\u001b[0m \u001b[1;34m'sitting '\u001b[0m\u001b[1;33m,\u001b[0m \u001b[1;34m'on '\u001b[0m\u001b[1;33m,\u001b[0m \u001b[1;34m'the '\u001b[0m\u001b[1;33m,\u001b[0m \u001b[1;34m'table'\u001b[0m\u001b[1;33m]\u001b[0m\u001b[1;33m)\u001b[0m\u001b[1;33m)\u001b[0m\u001b[1;33m\u001b[0m\u001b[1;33m\u001b[0m\u001b[0m\n\u001b[1;32m---> 39\u001b[1;33m \u001b[0mcooker\u001b[0m\u001b[1;33m,\u001b[0m \u001b[0mhigh\u001b[0m\u001b[1;33m,\u001b[0m\u001b[1;33m\u001b[0m\u001b[1;33m\u001b[0m\u001b[0m\n\u001b[0m",
      "\u001b[1;31mNameError\u001b[0m: name 'cooker' is not defined"
     ]
    }
   ],
   "source": [
    "print('Apple')\n",
    "print(\"Apple's\")\n",
    "print('\"Apple\"')\n",
    "print('''\"Apple\", 'orange\\'''')\n",
    "print('kumar\\'s')\n",
    "print(\"...\\\"text\\\"....] \")\n",
    "tf = 'p' in 'people'\n",
    "print(tf)\n",
    "tf = 'x' not in 'kitchen'\n",
    "print(tf)\n",
    "print(''' \n",
    "hjkhkjk llklkl \n",
    "kjjjlll\n",
    "ljjlk''')\n",
    "print('hi, \\nhow are. \\nWhere r u!')\n",
    "print('\\x48\\x45\\x58')\n",
    "st1 = 'colding'\n",
    "print(st1)\n",
    "st1 = st1[0:2]+'o'+st1[3:7]\n",
    "print(st1)\n",
    "print('jon', 'bill', 'tom')\n",
    "print(\"{0}, {1} and {2}\".format('jon', 'bill', 'tom'))\n",
    "k = \"{2}, {1} and {0}\".format('jon', 'bill', 'tom')\n",
    "print(k)\n",
    "k2 = \"{x2}, {x3} and {x1}\".format(x1 ='jon', x2 = 'bill', x3 = 'tom')\n",
    "print(k2)\n",
    "print(\"binary is {0} is {0:b}\".format(12))\n",
    "print(\"binary is {0} is {0:e}\".format(326736.9789))\n",
    "print(\"binary is {0} is {0:f}\".format(1/3))\n",
    "print(\"|{:<10}|{:^10}|{:>10}|\".format('jon', 'bill', 'tom'))\n",
    "print(\"|{:<10}|{:^10}|{:>10}|\".format('jon', 'bill', 'tom'))\n",
    "str3 = 'multiprocessing'\n",
    "sten = list(enumerate(str3))\n",
    "print(sten)\n",
    "print('People'.lower())\n",
    "print('People'.upper())\n",
    "print('People are sitting on the table'.split())\n",
    "print(''.join(['People ', 'are ', 'sitting ', 'on ', 'the ', 'table']))\n",
    "cooker, high,"
   ]
  },
  {
   "cell_type": "code",
   "execution_count": 1,
   "id": "54296552",
   "metadata": {},
   "outputs": [
    {
     "name": "stdout",
     "output_type": "stream",
     "text": [
      "The GCD is 25\n"
     ]
    }
   ],
   "source": [
    "def compute_GCD(x, y):\n",
    "\n",
    "    if x > y:\n",
    "        smaller = y\n",
    "    else:\n",
    "        smaller = x\n",
    "    for i in range(1, smaller+1):\n",
    "        if((x % i == 0) and (y % i == 0)):\n",
    "            GCD = i \n",
    "    return GCD\n",
    "\n",
    "num1 = 100 \n",
    "num2 = 75\n",
    "\n",
    "print(\"The GCD is\", compute_GCD(num1, num2))"
   ]
  },
  {
   "cell_type": "code",
   "execution_count": null,
   "id": "20bfc007",
   "metadata": {},
   "outputs": [],
   "source": []
  }
 ],
 "metadata": {
  "kernelspec": {
   "display_name": "Python 3",
   "language": "python",
   "name": "python3"
  },
  "language_info": {
   "codemirror_mode": {
    "name": "ipython",
    "version": 3
   },
   "file_extension": ".py",
   "mimetype": "text/x-python",
   "name": "python",
   "nbconvert_exporter": "python",
   "pygments_lexer": "ipython3",
   "version": "3.8.8"
  }
 },
 "nbformat": 4,
 "nbformat_minor": 5
}
