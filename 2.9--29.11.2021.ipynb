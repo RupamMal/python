{
 "cells": [
  {
   "cell_type": "code",
   "execution_count": 8,
   "id": "a2a47b88",
   "metadata": {},
   "outputs": [
    {
     "name": "stdout",
     "output_type": "stream",
     "text": [
      "Enter your sentence: people are sitting on the table\n",
      "['are', 'on', 'table']\n",
      "['people', 'sitting', 'the']\n"
     ]
    }
   ],
   "source": [
    "sentence = input(\"Enter your sentence: \");\n",
    "words = sentence.split();\n",
    "newstr1 = []\n",
    "newstr2 = []\n",
    "for w in range(len(words)):\n",
    "    if (w % 2) != 0:\n",
    "        newstr1.append(words[w][::1])\n",
    "    else:\n",
    "        newstr2.append(words[w][::1])\n",
    "print(newstr1)\n",
    "print(newstr2)"
   ]
  },
  {
   "cell_type": "code",
   "execution_count": 6,
   "id": "9a279b16",
   "metadata": {},
   "outputs": [
    {
     "name": "stdout",
     "output_type": "stream",
     "text": [
      "set1 intersection set2 :  {2, 4}\n",
      "set1 intersection set2 intersection set3 : {2, 4}\n",
      "set1 intersection set2 intersection set3 intersection set4 : {2, 4}\n",
      "set1 intersection set2 intersection set3 intersection set4 intersection set5 : {2, 4}\n"
     ]
    }
   ],
   "source": [
    "set1 = {2,4,6,8}\n",
    "set2 = {1,2,4,5}\n",
    "set3 = {3,2,4}\n",
    "set4 = {2,4}\n",
    "set5 = {2,4,8,10}\n",
    " \n",
    "print(\"set1 intersection set2 : \",\n",
    "      set1.intersection(set2))\n",
    " \n",
    "print(\"set1 intersection set2 intersection set3 :\",\n",
    "      set1.intersection(set2, set3))\n",
    "\n",
    "print(\"set1 intersection set2 intersection set3 intersection set4 :\",\n",
    "      set1.intersection(set2, set3, set4))\n",
    "\n",
    "print(\"set1 intersection set2 intersection set3 intersection set4 intersection set5 :\",\n",
    "      set1.intersection(set2, set3, set4, set5))"
   ]
  },
  {
   "cell_type": "code",
   "execution_count": 3,
   "id": "fb42a0cc",
   "metadata": {},
   "outputs": [
    {
     "name": "stdout",
     "output_type": "stream",
     "text": [
      "Union1 {3, 4, 5, 6, 7, 8, 9, 10, 11}\n",
      "Union2 {3, 4, 5, 6, 7, 8, 9, 10, 11}\n",
      "Union3 {3, 4, 5, 6, 7, 8, 9, 10, 11}\n",
      "Intersection1 {8, 6, 7}\n",
      "Intersection2 {8, 6, 7}\n",
      "Intersection3 {8, 6, 7}\n",
      "Difference1 {3, 4, 5}\n",
      "Difference2 {9, 10, 11}\n",
      "Difference3 {3, 4, 5}\n",
      "Difference4 {9, 10, 11}\n",
      "Sym_diff1 {3, 4, 5, 9, 10, 11}\n",
      "Sym_diff2 {3, 4, 5, 9, 10, 11}\n",
      "Sym_diff3 {3, 4, 5, 9, 10, 11}\n",
      "True\n",
      "False\n"
     ]
    },
    {
     "ename": "AttributeError",
     "evalue": "'frozenset' object has no attribute 'add'",
     "output_type": "error",
     "traceback": [
      "\u001b[1;31m---------------------------------------------------------------------------\u001b[0m",
      "\u001b[1;31mAttributeError\u001b[0m                            Traceback (most recent call last)",
      "\u001b[1;32m<ipython-input-3-63545a27a0b0>\u001b[0m in \u001b[0;36m<module>\u001b[1;34m\u001b[0m\n\u001b[0;32m     19\u001b[0m \u001b[0mprint\u001b[0m\u001b[1;33m(\u001b[0m\u001b[1;36m4\u001b[0m \u001b[1;32mnot\u001b[0m \u001b[1;32min\u001b[0m \u001b[0ms1\u001b[0m\u001b[1;33m)\u001b[0m\u001b[1;33m\u001b[0m\u001b[1;33m\u001b[0m\u001b[0m\n\u001b[0;32m     20\u001b[0m \u001b[0ms3\u001b[0m \u001b[1;33m=\u001b[0m \u001b[0mfrozenset\u001b[0m\u001b[1;33m(\u001b[0m\u001b[1;33m[\u001b[0m\u001b[1;36m1\u001b[0m\u001b[1;33m,\u001b[0m \u001b[1;36m4\u001b[0m\u001b[1;33m,\u001b[0m \u001b[1;36m5\u001b[0m\u001b[1;33m,\u001b[0m \u001b[1;36m7\u001b[0m\u001b[1;33m]\u001b[0m\u001b[1;33m)\u001b[0m\u001b[1;33m\u001b[0m\u001b[1;33m\u001b[0m\u001b[0m\n\u001b[1;32m---> 21\u001b[1;33m \u001b[0ms3\u001b[0m\u001b[1;33m.\u001b[0m\u001b[0madd\u001b[0m\u001b[1;33m(\u001b[0m\u001b[1;36m9\u001b[0m\u001b[1;33m)\u001b[0m\u001b[1;33m\u001b[0m\u001b[1;33m\u001b[0m\u001b[0m\n\u001b[0m\u001b[0;32m     22\u001b[0m \u001b[0mprint\u001b[0m\u001b[1;33m(\u001b[0m\u001b[0ms3\u001b[0m\u001b[1;33m)\u001b[0m\u001b[1;33m\u001b[0m\u001b[1;33m\u001b[0m\u001b[0m\n",
      "\u001b[1;31mAttributeError\u001b[0m: 'frozenset' object has no attribute 'add'"
     ]
    }
   ],
   "source": [
    "s1 = {3, 4, 5, 6, 7, 8} # s1 - s2\n",
    "s2 = {6, 7, 8, 9, 10, 11} # s2 - s1\n",
    "print('Union1', s1 | s2)\n",
    "print('Union2', s1.union(s2))\n",
    "print('Union3', s2.union(s1))\n",
    "print('Intersection1', s1 & s2)\n",
    "print('Intersection2', s1.intersection(s2))\n",
    "print('Intersection3', s2.intersection(s1))\n",
    "print('Difference1', s1 - s2)\n",
    "print('Difference2', s2 - s1)\n",
    "print('Difference3', s1.difference(s2))\n",
    "print('Difference4', s2.difference(s1))\n",
    "print('Sym_diff1', s1 ^ s2)\n",
    "print('Sym_diff2', s1.symmetric_difference(s2))\n",
    "print('Sym_diff3', s2.symmetric_difference(s1))\n",
    "s1 = {3, 4, 5, 6, 7, 8} # s1 - s2\n",
    "s2 = {6, 7, 8, 9, 10, 11} # s2 - s1\n",
    "print(4 in s1)\n",
    "print(4 not in s1)\n",
    "s3 = frozenset([1, 4, 5, 7])\n",
    "s3.add(9)\n",
    "print(s3)"
   ]
  },
  {
   "cell_type": "code",
   "execution_count": null,
   "id": "58bb7500",
   "metadata": {},
   "outputs": [],
   "source": []
  }
 ],
 "metadata": {
  "kernelspec": {
   "display_name": "Python 3",
   "language": "python",
   "name": "python3"
  },
  "language_info": {
   "codemirror_mode": {
    "name": "ipython",
    "version": 3
   },
   "file_extension": ".py",
   "mimetype": "text/x-python",
   "name": "python",
   "nbconvert_exporter": "python",
   "pygments_lexer": "ipython3",
   "version": "3.8.8"
  }
 },
 "nbformat": 4,
 "nbformat_minor": 5
}
