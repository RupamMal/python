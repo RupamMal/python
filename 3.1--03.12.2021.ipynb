{
 "cells": [
  {
   "cell_type": "code",
   "execution_count": 1,
   "id": "e82a5f6a",
   "metadata": {},
   "outputs": [
    {
     "name": "stdout",
     "output_type": "stream",
     "text": [
      "Students with A in math b in sci {'s4', 's1', 's3', 's2', 's5', 's10'}\n",
      "Students with A or B in sci {'s1', 's3', 's9', 's5', 's10'}\n",
      "Students without A or B in sci {'s4', 's7', 's8', 's6', 's2'}\n",
      "Students with A in math but not A or B in sci {'s2', 's4'}\n"
     ]
    }
   ],
   "source": [
    "math_a = {'s2', 's3', 's4', 's5'}\n",
    "math_b = {'s1', 's7', 's9'}\n",
    "sci_a  = {'s3', 's5', 's9'}\n",
    "sci_b  = {'s1', 's10'}\n",
    "u = {'s1', 's2', 's3', 's4', 's5', 's6', 's7', 's8', 's9', 's10'}\n",
    "print('Students with A in math b in sci', math_a | sci_b)\n",
    "st1 = sci_a | sci_b\n",
    "print('Students with A or B in sci',st1)\n",
    "st2 = u - st1\n",
    "print('Students without A or B in sci',st2)\n",
    "st3 = math_a & st2\n",
    "print('Students with A in math but not A or B in sci',st3)"
   ]
  },
  {
   "cell_type": "code",
   "execution_count": null,
   "id": "9dc74da6",
   "metadata": {},
   "outputs": [],
   "source": []
  }
 ],
 "metadata": {
  "kernelspec": {
   "display_name": "Python 3",
   "language": "python",
   "name": "python3"
  },
  "language_info": {
   "codemirror_mode": {
    "name": "ipython",
    "version": 3
   },
   "file_extension": ".py",
   "mimetype": "text/x-python",
   "name": "python",
   "nbconvert_exporter": "python",
   "pygments_lexer": "ipython3",
   "version": "3.8.8"
  }
 },
 "nbformat": 4,
 "nbformat_minor": 5
}
