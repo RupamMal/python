{
 "cells": [
  {
   "cell_type": "code",
   "execution_count": 5,
   "id": "24c99574",
   "metadata": {},
   "outputs": [
    {
     "name": "stdout",
     "output_type": "stream",
     "text": [
      "['12 ', ' 34']\n"
     ]
    }
   ],
   "source": [
    "import re\n",
    "string = 'hello 12 hi 89. Howdy 34'\n",
    "pattern = '12 | 34'\n",
    "result = re.findall(pattern, string)\n",
    "print(result)"
   ]
  },
  {
   "cell_type": "code",
   "execution_count": 6,
   "id": "131241c7",
   "metadata": {},
   "outputs": [
    {
     "name": "stdout",
     "output_type": "stream",
     "text": [
      "['Twelve:', ' Eighty nine:', '.']\n"
     ]
    }
   ],
   "source": [
    "import re\n",
    "string = 'Twelve:12 Eighty nine:891.'\n",
    "pattern = '\\d+' \n",
    "result = re.split(pattern, string)\n",
    "print(result)"
   ]
  },
  {
   "cell_type": "code",
   "execution_count": 7,
   "id": "0f6dae48",
   "metadata": {},
   "outputs": [
    {
     "name": "stdout",
     "output_type": "stream",
     "text": [
      "['Twelve:', ' Eighty nine:89 Nine:9.']\n"
     ]
    }
   ],
   "source": [
    "import re\n",
    "string = 'Twelve:12 Eighty nine:89 Nine:9.'\n",
    "pattern = '\\d+'#\n",
    "maxsplit =1\n",
    "result = re.split(pattern, string, maxsplit)\n",
    "print(result)"
   ]
  },
  {
   "cell_type": "code",
   "execution_count": 8,
   "id": "57648f8e",
   "metadata": {},
   "outputs": [
    {
     "name": "stdout",
     "output_type": "stream",
     "text": [
      "abc12de23f456\n"
     ]
    }
   ],
   "source": [
    "import re\n",
    "string = 'abc 12 de 23 f45 6'\n",
    "# matches all whitespace characters\n",
    "pattern = '\\s'\n",
    "# empty string\n",
    "replace = ''\n",
    "new_string = re.sub(pattern, replace, string)\n",
    "print(new_string)"
   ]
  },
  {
   "cell_type": "code",
   "execution_count": 9,
   "id": "b6dfb690",
   "metadata": {},
   "outputs": [
    {
     "name": "stdout",
     "output_type": "stream",
     "text": [
      "('abc12de23f4568978', 7)\n"
     ]
    }
   ],
   "source": [
    "import re\n",
    "string = 'abc 12 de 23 f45 6 89       78'\n",
    "# matches all whitespace characters\n",
    "pattern = '\\s+'\n",
    "# empty string\n",
    "replace = ''\n",
    "new_string = re.subn(pattern, replace, string)\n",
    "print(new_string)"
   ]
  },
  {
   "cell_type": "code",
   "execution_count": 14,
   "id": "c59c0ffc",
   "metadata": {},
   "outputs": [
    {
     "name": "stdout",
     "output_type": "stream",
     "text": [
      "pattern found inside the string\n"
     ]
    }
   ],
   "source": [
    "import re\n",
    "string = \"Python is fun\"\n",
    "match = re.search('fun', string)\n",
    "if match:\n",
    "    print(\"pattern found inside the string\")\n",
    "else:\n",
    "    print(\"pattern not found\")"
   ]
  },
  {
   "cell_type": "code",
   "execution_count": 13,
   "id": "a48b05cb",
   "metadata": {},
   "outputs": [
    {
     "name": "stdout",
     "output_type": "stream",
     "text": [
      "102  111\n"
     ]
    }
   ],
   "source": [
    "import re\n",
    "string = '39801 356, 2102  1111'\n",
    "# Three digit number followed by space followed by two digit number\n",
    "pattern = '(\\d{3})  (\\d{3})'\n",
    "# match variable contains a Match object.\n",
    "match = re.search(pattern, string)\n",
    "if match:\n",
    "    print(match.group())\n",
    "else:\n",
    "    print(\"pattern not found\")"
   ]
  },
  {
   "cell_type": "code",
   "execution_count": 2,
   "id": "0ab70ac7",
   "metadata": {},
   "outputs": [
    {
     "name": "stdout",
     "output_type": "stream",
     "text": [
      "input date: \n",
      "12/10/2000\n",
      "changed format:  12.10.2000\n",
      "input date: \n",
      "12.10.200\n",
      "changed format:  12/10/200\n"
     ]
    }
   ],
   "source": [
    "def convert_date(date_str):\n",
    "    new_date = \"\"\n",
    "    for c in date_str:\n",
    "        if c =='/':\n",
    "            new_date += '.'\n",
    "        elif c == '.':\n",
    "            new_date += '/'\n",
    "        else :\n",
    "            new_date += c\n",
    "    return new_date\n",
    "\n",
    "print(\"input date: \")\n",
    "input_date = input()\n",
    "print(\"changed format: \",convert_date(input_date))\n",
    "\n",
    "print(\"input date: \")\n",
    "input_date = input()\n",
    "print(\"changed format: \",convert_date(input_date))\n"
   ]
  },
  {
   "cell_type": "code",
   "execution_count": null,
   "id": "64908367",
   "metadata": {},
   "outputs": [],
   "source": []
  }
 ],
 "metadata": {
  "kernelspec": {
   "display_name": "Python 3",
   "language": "python",
   "name": "python3"
  },
  "language_info": {
   "codemirror_mode": {
    "name": "ipython",
    "version": 3
   },
   "file_extension": ".py",
   "mimetype": "text/x-python",
   "name": "python",
   "nbconvert_exporter": "python",
   "pygments_lexer": "ipython3",
   "version": "3.8.8"
  }
 },
 "nbformat": 4,
 "nbformat_minor": 5
}
