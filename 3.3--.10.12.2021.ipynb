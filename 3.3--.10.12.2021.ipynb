{
 "cells": [
  {
   "cell_type": "code",
   "execution_count": 1,
   "id": "cbf9b974",
   "metadata": {},
   "outputs": [
    {
     "name": "stdout",
     "output_type": "stream",
     "text": [
      "hi, h\n",
      "hi, how are you\n",
      "I am fine\n",
      "hi, how are you\n",
      "I am fine\n",
      "What about your family\n",
      "************************************************************\n",
      "I am fine\n",
      "Done\n",
      "22\n"
     ]
    }
   ],
   "source": [
    "f = open('bulk.txt', 'w')\n",
    "f.write('hi, how are you\\n')\n",
    "f.write('I am fine')\n",
    "f.close()\n",
    "f = open('bulk.txt', 'r')\n",
    "print(f.read(5))\n",
    "f.close()\n",
    "f = open('bulk.txt', 'r')\n",
    "print(f.read())\n",
    "f.close()\n",
    "f = open('bulk.txt', 'a')\n",
    "f.write('\\nWhat about your family')\n",
    "f.close()\n",
    "f = open('bulk.txt', 'r')\n",
    "print(f.read())\n",
    "f.close()\n",
    "f = open('bulk.txt', 'w')\n",
    "f.write('I am fine')\n",
    "f.close()\n",
    "print('************************************************************')\n",
    "try:\n",
    "    f = open('bulk.txt', 'r')\n",
    "    print(f.read())\n",
    "finally:\n",
    "    f.close()\n",
    "    print('Done')\n",
    "a = 5\n",
    "b = 6\n",
    "c = 7\n",
    "d = 3\n",
    "e = 1\n",
    "x = a+b+c+d+e\n",
    "print(x)\n",
    "f = open('output.txt', 'w')\n",
    "f.write(f'The sum of five numbers is {x}')\n",
    "f.close()"
   ]
  },
  {
   "cell_type": "code",
   "execution_count": null,
   "id": "0310c2ae",
   "metadata": {},
   "outputs": [],
   "source": []
  }
 ],
 "metadata": {
  "kernelspec": {
   "display_name": "Python 3",
   "language": "python",
   "name": "python3"
  },
  "language_info": {
   "codemirror_mode": {
    "name": "ipython",
    "version": 3
   },
   "file_extension": ".py",
   "mimetype": "text/x-python",
   "name": "python",
   "nbconvert_exporter": "python",
   "pygments_lexer": "ipython3",
   "version": "3.8.8"
  }
 },
 "nbformat": 4,
 "nbformat_minor": 5
}
